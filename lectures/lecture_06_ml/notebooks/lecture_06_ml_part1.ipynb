{
 "cells": [
  {
   "cell_type": "code",
   "execution_count": 3,
   "metadata": {
    "ExecuteTime": {
     "end_time": "2019-10-24T15:19:36.261885Z",
     "start_time": "2019-10-24T15:19:35.261879Z"
    }
   },
   "outputs": [],
   "source": [
    "import pandas as pd\n",
    "import numpy as np\n",
    "\n",
    "import matplotlib.pyplot as plt\n",
    "\n",
    "%matplotlib inline              "
   ]
  },
  {
   "cell_type": "markdown",
   "metadata": {},
   "source": [
    "# Формальная постановка"
   ]
  },
  {
   "cell_type": "markdown",
   "metadata": {},
   "source": [
    "Дан набор обучающих примеров $$(x_1, x_2, \\dots, x_n), x_i \\in \\mathcal{X} \\subseteq \\mathbb{R}^k,$$ $n$ -- размер выборки, $k$ -- количество признаков (фичей). Также задан (не всегда явно) набор целевых переменных $$(y_1, y_2, \\dots, y_n), y_i \\in \\mathcal{Y} \\subseteq \\mathbb{R}.$$"
   ]
  },
  {
   "cell_type": "markdown",
   "metadata": {},
   "source": [
    "Также мы делаем предположение о том, что есть некоторая целевая зависимость\n",
    "$$f: \\mathcal{X} \\to \\mathcal{Y},$$\n",
    "$$f(x_i)=y_i \\,\\,\\,\\, \\forall i=1,\\dots, n.$$"
   ]
  },
  {
   "cell_type": "markdown",
   "metadata": {},
   "source": [
    "Наша задача построить алгоритм\n",
    "$$a: \\mathcal{X} \\to \\mathcal{Y},$$\n",
    "который будет приближать исходную зависимость $f$.\n",
    "\n",
    "Как правило алгоритм мы выбираем из некоторого параметрического семейства функций\n",
    "$$A = \\{a_\\theta: \\mathcal{X} \\to \\mathcal{Y}, \\theta \\in \\Theta\\}, $$\n",
    "$$a^* = a_{\\theta^*} \\in A,$$\n",
    "$\\theta^*$ -- фиксированный набор параметров модели, $\\Theta$ -- пространство параметров."
   ]
  },
  {
   "cell_type": "markdown",
   "metadata": {},
   "source": [
    "## Метрики качества\n",
    "Для одной и той же проблемы мы можем найти очень много алгоритмов. Нам нужно как-то понимать, что один лучше другого по качеству (как еще можно сравнивать алгоритмы?).\n",
    "\n",
    "Для этих целей существуют метрики качества. Они отражают насколько хорошо алгоритм справляется с востановлением целевой зависимости."
   ]
  },
  {
   "cell_type": "markdown",
   "metadata": {},
   "source": [
    "## Функция потерь\n",
    "По своей сути очень близка к метрике качества, тоже показывает насколько хорошо работает алгоритм. Однако отличается от последней тем, что она дифференцируема (и как правило выпуклая) и используется непосредственно для обучения алгоритма."
   ]
  },
  {
   "cell_type": "markdown",
   "metadata": {},
   "source": [
    "## Обучение\n",
    "Заключается в оптимизации (минимизации) функции потерь $L$ (при фиксированном семействе $A$):\n",
    "$$L: A \\times \\mathcal{Y} \\to \\mathbb{R},$$\n",
    "$$L(a, y) \\to \\min,$$\n",
    "$$a^* = \\arg\\min_{a \\in A} L(a,y).$$\n",
    "Или можно выразить через параметры:\n",
    "$$\\theta^* = \\arg\\min_{\\theta \\in \\Theta} L(a_\\theta, y),$$\n",
    "$$a^* = a_{\\theta^*}.$$\n",
    "$y$ здесь обозначает набор заданных целевых переменных."
   ]
  },
  {
   "cell_type": "markdown",
   "metadata": {},
   "source": [
    "Часто $L(a, y)$ представляют как среднее по отдельным примерам:\n",
    "$$L(a,y) = \\frac{1}{n}\\sum_{i=1}^{n} L(a(x_i), y_i)$$"
   ]
  },
  {
   "cell_type": "code",
   "execution_count": null,
   "metadata": {},
   "outputs": [],
   "source": []
  },
  {
   "cell_type": "markdown",
   "metadata": {},
   "source": [
    "## Подробнее о признаках"
   ]
  },
  {
   "cell_type": "markdown",
   "metadata": {},
   "source": [
    "Можно разделить на несколько групп:\n",
    "\n",
    "1) Категориальные (конечное множество значений): пол человека, категория товара;\n",
    "\n",
    "2) Порядковые (конечное упорядоченное множество): уровень владения языком;\n",
    "\n",
    "3) Количественные (множество действительных чисел): возраст человека, цена товара."
   ]
  },
  {
   "cell_type": "markdown",
   "metadata": {},
   "source": [
    "Как правило нам даны описания объектов, а не их признаки сразу. Например, у веб-страниц у нас есть их залоговок, текст и тд. \n",
    "\n",
    "Также иногда модели требуют ограничения на значения признаков. Например, для линейных моделей есть предположение, что признаки нормализованы:\n",
    "$$x_i \\in \\mathcal{N}(0, 1).$$"
   ]
  },
  {
   "cell_type": "markdown",
   "metadata": {},
   "source": [
    "### Нормализация данных"
   ]
  },
  {
   "cell_type": "markdown",
   "metadata": {},
   "source": [
    "Приведение данных к нормальному распределению:"
   ]
  },
  {
   "cell_type": "code",
   "execution_count": 1,
   "metadata": {
    "ExecuteTime": {
     "end_time": "2019-10-23T18:22:33.281726Z",
     "start_time": "2019-10-23T18:22:32.528526Z"
    }
   },
   "outputs": [],
   "source": [
    "from sklearn import preprocessing"
   ]
  },
  {
   "cell_type": "code",
   "execution_count": 4,
   "metadata": {
    "ExecuteTime": {
     "end_time": "2019-10-23T18:23:02.259788Z",
     "start_time": "2019-10-23T18:23:02.243189Z"
    }
   },
   "outputs": [
    {
     "data": {
      "text/plain": [
       "array([[ 0.        , -1.22474487,  1.33630621],\n",
       "       [ 1.22474487,  0.        , -0.26726124],\n",
       "       [-1.22474487,  1.22474487, -1.06904497]])"
      ]
     },
     "execution_count": 4,
     "metadata": {},
     "output_type": "execute_result"
    }
   ],
   "source": [
    "X_train = np.array([[ 1., -1.,  2.],\n",
    "                    [ 2.,  0.,  0.],\n",
    "                    [ 0.,  1., -1.]])\n",
    "X_scaled = preprocessing.scale(X_train)\n",
    "\n",
    "X_scaled                               "
   ]
  },
  {
   "cell_type": "code",
   "execution_count": 5,
   "metadata": {
    "ExecuteTime": {
     "end_time": "2019-10-23T18:23:53.894965Z",
     "start_time": "2019-10-23T18:23:53.891218Z"
    }
   },
   "outputs": [],
   "source": [
    "scaler = preprocessing.StandardScaler().fit(X_train)"
   ]
  },
  {
   "cell_type": "code",
   "execution_count": 6,
   "metadata": {
    "ExecuteTime": {
     "end_time": "2019-10-23T18:24:10.497687Z",
     "start_time": "2019-10-23T18:24:10.493377Z"
    }
   },
   "outputs": [
    {
     "data": {
      "text/plain": [
       "array([1.        , 0.        , 0.33333333])"
      ]
     },
     "execution_count": 6,
     "metadata": {},
     "output_type": "execute_result"
    }
   ],
   "source": [
    "scaler.mean_"
   ]
  },
  {
   "cell_type": "code",
   "execution_count": 7,
   "metadata": {
    "ExecuteTime": {
     "end_time": "2019-10-23T18:24:21.614778Z",
     "start_time": "2019-10-23T18:24:21.609646Z"
    }
   },
   "outputs": [
    {
     "data": {
      "text/plain": [
       "array([0.81649658, 0.81649658, 1.24721913])"
      ]
     },
     "execution_count": 7,
     "metadata": {},
     "output_type": "execute_result"
    }
   ],
   "source": [
    "scaler.scale_"
   ]
  },
  {
   "cell_type": "code",
   "execution_count": 8,
   "metadata": {
    "ExecuteTime": {
     "end_time": "2019-10-23T18:24:33.382453Z",
     "start_time": "2019-10-23T18:24:33.379793Z"
    }
   },
   "outputs": [],
   "source": [
    "X_test = [[-1., 1., 0.]]"
   ]
  },
  {
   "cell_type": "code",
   "execution_count": 9,
   "metadata": {
    "ExecuteTime": {
     "end_time": "2019-10-23T18:24:40.934188Z",
     "start_time": "2019-10-23T18:24:40.929752Z"
    }
   },
   "outputs": [
    {
     "data": {
      "text/plain": [
       "array([[-2.44948974,  1.22474487, -0.26726124]])"
      ]
     },
     "execution_count": 9,
     "metadata": {},
     "output_type": "execute_result"
    }
   ],
   "source": [
    "scaler.transform(X_test) "
   ]
  },
  {
   "cell_type": "markdown",
   "metadata": {},
   "source": [
    "Приведение данных к отрезку [0,1]:"
   ]
  },
  {
   "cell_type": "code",
   "execution_count": 10,
   "metadata": {
    "ExecuteTime": {
     "end_time": "2019-10-23T18:25:18.172687Z",
     "start_time": "2019-10-23T18:25:18.167874Z"
    }
   },
   "outputs": [
    {
     "data": {
      "text/plain": [
       "array([[0.5       , 0.        , 1.        ],\n",
       "       [1.        , 0.5       , 0.33333333],\n",
       "       [0.        , 1.        , 0.        ]])"
      ]
     },
     "execution_count": 10,
     "metadata": {},
     "output_type": "execute_result"
    }
   ],
   "source": [
    "preprocessing.minmax_scale(X_train)"
   ]
  },
  {
   "cell_type": "markdown",
   "metadata": {},
   "source": [
    "Аналогично есть MinMaxScaler."
   ]
  },
  {
   "cell_type": "markdown",
   "metadata": {},
   "source": [
    "Есть инструмент для преобразования распределения:"
   ]
  },
  {
   "cell_type": "code",
   "execution_count": 11,
   "metadata": {
    "ExecuteTime": {
     "end_time": "2019-10-23T18:33:08.690897Z",
     "start_time": "2019-10-23T18:33:08.688210Z"
    }
   },
   "outputs": [],
   "source": [
    "sample = np.random.randn(1500)"
   ]
  },
  {
   "cell_type": "code",
   "execution_count": 12,
   "metadata": {
    "ExecuteTime": {
     "end_time": "2019-10-23T18:33:09.264161Z",
     "start_time": "2019-10-23T18:33:09.099703Z"
    }
   },
   "outputs": [
    {
     "data": {
      "text/plain": [
       "(array([  3.,  38., 116., 258., 388., 364., 221.,  86.,  20.,   6.]),\n",
       " array([-3.34545026, -2.65833152, -1.97121277, -1.28409403, -0.59697529,\n",
       "         0.09014346,  0.7772622 ,  1.46438095,  2.15149969,  2.83861843,\n",
       "         3.52573718]),\n",
       " <a list of 10 Patch objects>)"
      ]
     },
     "execution_count": 12,
     "metadata": {},
     "output_type": "execute_result"
    },
    {
     "data": {
      "image/png": "[encoded data removed]",
      "text/plain": [
       "<Figure size 432x288 with 1 Axes>"
      ]
     },
     "metadata": {
      "needs_background": "light"
     },
     "output_type": "display_data"
    }
   ],
   "source": [
    "plt.hist(sample)"
   ]
  },
  {
   "cell_type": "code",
   "execution_count": 13,
   "metadata": {
    "ExecuteTime": {
     "end_time": "2019-10-23T18:33:10.710775Z",
     "start_time": "2019-10-23T18:33:10.704372Z"
    }
   },
   "outputs": [],
   "source": [
    "sample_uniform = preprocessing.QuantileTransformer().fit_transform(sample.reshape(-1, 1))"
   ]
  },
  {
   "cell_type": "code",
   "execution_count": 14,
   "metadata": {
    "ExecuteTime": {
     "end_time": "2019-10-23T18:33:11.116250Z",
     "start_time": "2019-10-23T18:33:10.956434Z"
    }
   },
   "outputs": [
    {
     "data": {
      "text/plain": [
       "(array([150., 151., 149., 150., 150., 150., 150., 150., 149., 151.]),\n",
       " array([0. , 0.1, 0.2, 0.3, 0.4, 0.5, 0.6, 0.7, 0.8, 0.9, 1. ]),\n",
       " <a list of 10 Patch objects>)"
      ]
     },
     "execution_count": 14,
     "metadata": {},
     "output_type": "execute_result"
    },
    {
     "data": {
      "image/png": "[encoded data removed]",
      "text/plain": [
       "<Figure size 432x288 with 1 Axes>"
      ]
     },
     "metadata": {
      "needs_background": "light"
     },
     "output_type": "display_data"
    }
   ],
   "source": [
    "plt.hist(sample_uniform)"
   ]
  },
  {
   "cell_type": "markdown",
   "metadata": {},
   "source": [
    "Также есть мапинг в нормальное распредление с помощью PowerTransformer."
   ]
  },
  {
   "cell_type": "markdown",
   "metadata": {},
   "source": [
    "Также есть инструмент для нормализации в смысле векторной нормы:\n",
    "$$normalize(p) = \\frac{p}{||p||},$$\n",
    "где $||.||$ -- $l1$, $l2$, $max$ норма."
   ]
  },
  {
   "cell_type": "markdown",
   "metadata": {},
   "source": [
    "#### Обработка категориальных признаков"
   ]
  },
  {
   "cell_type": "markdown",
   "metadata": {},
   "source": [
    "Категориальные признаки обычно нельзя просто так поместить в датасет, тк это как правило строки. Однако, если это числа, то они обычно имеют другой смысл в отличии числовых. Например, если мы женский пол обозначим 0, а мужской 1, то это не значит, что 0 < 1, то есть нет никакого смысла в числовых значениях этих переменных кроме как наличия того или иного пола."
   ]
  },
  {
   "cell_type": "markdown",
   "metadata": {
    "ExecuteTime": {
     "end_time": "2019-10-23T18:55:10.112463Z",
     "start_time": "2019-10-23T18:55:10.108854Z"
    }
   },
   "source": [
    "Для такого вида признаков обычно используют технику one-hot."
   ]
  },
  {
   "cell_type": "code",
   "execution_count": 15,
   "metadata": {
    "ExecuteTime": {
     "end_time": "2019-10-23T18:55:26.970705Z",
     "start_time": "2019-10-23T18:55:26.961734Z"
    }
   },
   "outputs": [],
   "source": [
    "X = [['male', 'from US', 'uses Safari'], ['female', 'from Europe', 'uses Firefox']]"
   ]
  },
  {
   "cell_type": "code",
   "execution_count": 16,
   "metadata": {
    "ExecuteTime": {
     "end_time": "2019-10-23T18:55:52.934495Z",
     "start_time": "2019-10-23T18:55:52.922934Z"
    }
   },
   "outputs": [
    {
     "data": {
      "text/plain": [
       "matrix([[0., 1., 0., 1., 0., 1.],\n",
       "        [1., 0., 1., 0., 1., 0.]])"
      ]
     },
     "execution_count": 16,
     "metadata": {},
     "output_type": "execute_result"
    }
   ],
   "source": [
    "preprocessing.OneHotEncoder().fit_transform(X).todense()"
   ]
  },
  {
   "cell_type": "markdown",
   "metadata": {},
   "source": [
    "Похожий функционал есть в pandas:"
   ]
  },
  {
   "cell_type": "code",
   "execution_count": 17,
   "metadata": {
    "ExecuteTime": {
     "end_time": "2019-10-24T15:20:17.969814Z",
     "start_time": "2019-10-24T15:20:17.942543Z"
    }
   },
   "outputs": [
    {
     "data": {
      "text/html": [
       "<div>\n",
       "<style scoped>\n",
       "    .dataframe tbody tr th:only-of-type {\n",
       "        vertical-align: middle;\n",
       "    }\n",
       "\n",
       "    .dataframe tbody tr th {\n",
       "        vertical-align: top;\n",
       "    }\n",
       "\n",
       "    .dataframe thead th {\n",
       "        text-align: right;\n",
       "    }\n",
       "</style>\n",
       "<table border=\"1\" class=\"dataframe\">\n",
       "  <thead>\n",
       "    <tr style=\"text-align: right;\">\n",
       "      <th></th>\n",
       "      <th>A</th>\n",
       "      <th>B</th>\n",
       "      <th>C</th>\n",
       "    </tr>\n",
       "  </thead>\n",
       "  <tbody>\n",
       "    <tr>\n",
       "      <th>0</th>\n",
       "      <td>a</td>\n",
       "      <td>b</td>\n",
       "      <td>1</td>\n",
       "    </tr>\n",
       "    <tr>\n",
       "      <th>1</th>\n",
       "      <td>b</td>\n",
       "      <td>a</td>\n",
       "      <td>2</td>\n",
       "    </tr>\n",
       "    <tr>\n",
       "      <th>2</th>\n",
       "      <td>a</td>\n",
       "      <td>c</td>\n",
       "      <td>3</td>\n",
       "    </tr>\n",
       "  </tbody>\n",
       "</table>\n",
       "</div>"
      ],
      "text/plain": [
       "   A  B  C\n",
       "0  a  b  1\n",
       "1  b  a  2\n",
       "2  a  c  3"
      ]
     },
     "execution_count": 17,
     "metadata": {},
     "output_type": "execute_result"
    }
   ],
   "source": [
    "df = pd.DataFrame({'A': ['a', 'b', 'a'], 'B': ['b', 'a', 'c'], 'C': [1, 2, 3]})\n",
    "df.head()"
   ]
  },
  {
   "cell_type": "code",
   "execution_count": 8,
   "metadata": {
    "ExecuteTime": {
     "end_time": "2019-10-24T15:22:04.145936Z",
     "start_time": "2019-10-24T15:22:04.132674Z"
    }
   },
   "outputs": [
    {
     "data": {
      "text/html": [
       "<div>\n",
       "<style scoped>\n",
       "    .dataframe tbody tr th:only-of-type {\n",
       "        vertical-align: middle;\n",
       "    }\n",
       "\n",
       "    .dataframe tbody tr th {\n",
       "        vertical-align: top;\n",
       "    }\n",
       "\n",
       "    .dataframe thead th {\n",
       "        text-align: right;\n",
       "    }\n",
       "</style>\n",
       "<table border=\"1\" class=\"dataframe\">\n",
       "  <thead>\n",
       "    <tr style=\"text-align: right;\">\n",
       "      <th></th>\n",
       "      <th>C</th>\n",
       "      <th>col1_a</th>\n",
       "      <th>col1_b</th>\n",
       "      <th>col2_a</th>\n",
       "      <th>col2_b</th>\n",
       "      <th>col2_c</th>\n",
       "    </tr>\n",
       "  </thead>\n",
       "  <tbody>\n",
       "    <tr>\n",
       "      <th>0</th>\n",
       "      <td>1</td>\n",
       "      <td>1</td>\n",
       "      <td>0</td>\n",
       "      <td>0</td>\n",
       "      <td>1</td>\n",
       "      <td>0</td>\n",
       "    </tr>\n",
       "    <tr>\n",
       "      <th>1</th>\n",
       "      <td>2</td>\n",
       "      <td>0</td>\n",
       "      <td>1</td>\n",
       "      <td>1</td>\n",
       "      <td>0</td>\n",
       "      <td>0</td>\n",
       "    </tr>\n",
       "    <tr>\n",
       "      <th>2</th>\n",
       "      <td>3</td>\n",
       "      <td>1</td>\n",
       "      <td>0</td>\n",
       "      <td>0</td>\n",
       "      <td>0</td>\n",
       "      <td>1</td>\n",
       "    </tr>\n",
       "  </tbody>\n",
       "</table>\n",
       "</div>"
      ],
      "text/plain": [
       "   C  col1_a  col1_b  col2_a  col2_b  col2_c\n",
       "0  1       1       0       0       1       0\n",
       "1  2       0       1       1       0       0\n",
       "2  3       1       0       0       0       1"
      ]
     },
     "execution_count": 8,
     "metadata": {},
     "output_type": "execute_result"
    }
   ],
   "source": [
    "pd.get_dummies(df, prefix=['col1', 'col2'])"
   ]
  },
  {
   "cell_type": "code",
   "execution_count": null,
   "metadata": {},
   "outputs": [],
   "source": []
  },
  {
   "cell_type": "markdown",
   "metadata": {},
   "source": [
    "# Типы задач машинного обучения"
   ]
  },
  {
   "cell_type": "markdown",
   "metadata": {},
   "source": [
    "![](images_pt1/ml-types.jpeg)"
   ]
  },
  {
   "cell_type": "markdown",
   "metadata": {},
   "source": [
    "# Обучение с учителем\n",
    "Целевые переменные (метки) $(y_1, y_2, \\dots, y_n)$ нам явно заданы."
   ]
  },
  {
   "cell_type": "markdown",
   "metadata": {},
   "source": [
    "## Задача регрессии\n",
    "Множество $\\mathcal{Y}$ континуально, например, предсказываем объем продаж, цену, температуру."
   ]
  },
  {
   "cell_type": "markdown",
   "metadata": {},
   "source": [
    "![](images_pt1/regression.png)"
   ]
  },
  {
   "cell_type": "markdown",
   "metadata": {},
   "source": [
    "### Функции потерь"
   ]
  },
  {
   "cell_type": "markdown",
   "metadata": {},
   "source": [
    "Mean Squared Error, Средний квадрат ошибки\n",
    "$$MSE = \\frac{1}{n}\\sum_{i=1}^n (a(x_i) - y_i)^2.$$\n",
    "Root Mean Squared Error, Средняя квадратичная ошибка\n",
    "$$RMSE = \\sqrt{MSE}.$$\n",
    "Mean Absolute Error, Средний модуль отклонения\n",
    "$$MAE = \\frac{1}{n}\\sum_{i=1}^n |a(x_i) - y_i|.$$"
   ]
  },
  {
   "cell_type": "markdown",
   "metadata": {},
   "source": [
    "## Задача классификации\n",
    "Множество $\\mathcal{Y}$ конечно.\n",
    "\n",
    "Частный случай -- бинарная классификация ($|\\mathcal{Y}| = 2$), например, предсказываем будет ли клик, покупка. "
   ]
  },
  {
   "cell_type": "markdown",
   "metadata": {
    "ExecuteTime": {
     "end_time": "2019-10-24T15:46:10.178307Z",
     "start_time": "2019-10-24T15:46:10.174724Z"
    }
   },
   "source": [
    "<table><tr>\n",
    "<td><img src=\"images_pt1/class1.png\" style=\"height:400px\"></td>\n",
    "<td><img src=\"images_pt1/class2.png\" style=\"height:400px\"></td>\n",
    "</tr></table>"
   ]
  },
  {
   "cell_type": "markdown",
   "metadata": {},
   "source": [
    "### Метрики качества"
   ]
  },
  {
   "cell_type": "markdown",
   "metadata": {},
   "source": [
    "<table><tr>\n",
    "<td><img src=\"images_pt1/prec1.png\" style=\"height:400px\"></td>\n",
    "<td><img src=\"images_pt1/prec2.png\" style=\"height:400px\"></td>\n",
    "</tr></table>"
   ]
  },
  {
   "cell_type": "markdown",
   "metadata": {},
   "source": [
    "$$Accuracy = \\frac{1}{n}\\sum_{i=1}^n [a(x_i) = y_i]$$\n",
    "$$Precision = \\sum_{i=1}^n \\frac{[a(x_i) = y_i = 1]}{[a(x_i) = 1]}$$\n",
    "$$Recall = \\sum_{i=1}^n \\frac{[a(x_i) = y_i = 1]}{[y_i = 1]}$$\n",
    "$$F1\\_score = 2 \\cdot \\frac{Recall \\cdot Precision}{Recall + Precision}$$"
   ]
  },
  {
   "cell_type": "markdown",
   "metadata": {},
   "source": [
    "Еще важные метрики (но о них на другом занятии): ROC-AUC, PR-AUC."
   ]
  },
  {
   "cell_type": "markdown",
   "metadata": {},
   "source": [
    "Одна из основных функций потерь -- Negative Log Loss (бинарная классификация):\n",
    "$$NLL = \\sum_{i=1}^n(\\,\\,-y_i \\cdot \\log{a(x_i)} - (1 - y_i) \\cdot \\log(1 - a(x_i))\\,\\,)$$"
   ]
  },
  {
   "cell_type": "markdown",
   "metadata": {},
   "source": [
    "Подробнее о задаче классификации на следующем занятии."
   ]
  },
  {
   "cell_type": "markdown",
   "metadata": {},
   "source": [
    "# Обучение без учителя (кратко)\n",
    "Целевые переменные (метки) $(y_1, y_2, \\dots, y_n)$ нам не заданы.\n",
    "\n",
    "Как правило нужно построить алгоритм, воспроизводящий скрытые закономерности в данных."
   ]
  },
  {
   "cell_type": "markdown",
   "metadata": {},
   "source": [
    "## Кластеризация\n",
    "Необходимо разбить обучающее множество на непересекающиеся классы. Разбиение как правило должно отвечать двум условиям:\n",
    "\n",
    "1) в одном классе должны находиться похожие объекты;\n",
    "\n",
    "2) объекты из разных кластеров должны существенно различаться."
   ]
  },
  {
   "cell_type": "code",
   "execution_count": 18,
   "metadata": {
    "ExecuteTime": {
     "end_time": "2019-10-24T18:20:03.275101Z",
     "start_time": "2019-10-24T18:20:03.109189Z"
    }
   },
   "outputs": [
    {
     "data": {
      "text/plain": [
       "<matplotlib.collections.PathCollection at 0x1e8bb6155c0>"
      ]
     },
     "execution_count": 18,
     "metadata": {},
     "output_type": "execute_result"
    },
    {
     "data": {
      "image/png": "[encoded data removed]",
      "text/plain": [
       "<Figure size 576x432 with 1 Axes>"
      ]
     },
     "metadata": {
      "needs_background": "light"
     },
     "output_type": "display_data"
    }
   ],
   "source": [
    "plt.figure(figsize=(8,6))\n",
    "points = np.random.randn(50,2)*(0.5, 0.7) + (2,4)\n",
    "plt.scatter(points[:,0], points[:,1])\n",
    "\n",
    "points = np.random.randn(50,2)*(0.5, 1.3) + (5,7)\n",
    "plt.scatter(points[:,0], points[:,1])\n",
    "\n",
    "points = np.random.randn(50,2)*(0.3, 0.3) + (7,1)\n",
    "plt.scatter(points[:,0], points[:,1])"
   ]
  },
  {
   "cell_type": "markdown",
   "metadata": {},
   "source": [
    "## Снижение размерности\n",
    "Пытаемся построить отображение $h: \\mathbb{R}^k \\to \\mathbb{R}^l$, $l \\leq k$, с наименьшими потерями информации в данных."
   ]
  },
  {
   "cell_type": "markdown",
   "metadata": {},
   "source": [
    "<table><tr>\n",
    "<td><img src=\"images_pt1/pca.png\" style=\"height:400px\"></td>\n",
    "<td><img src=\"images_pt1/isomap.png\" style=\"height:400px\"></td>\n",
    "</tr></table>"
   ]
  },
  {
   "cell_type": "markdown",
   "metadata": {},
   "source": [
    "## Детекция аномалий\n",
    "Выделение в данных нетипичных представителей\n",
    "\n",
    "(Обнаружение мошеннических переводов, вмешательств, поломок)"
   ]
  },
  {
   "cell_type": "markdown",
   "metadata": {},
   "source": [
    "<table><tr>\n",
    "<td><img src=\"images_pt1/anomaly.png\" style=\"height:400px\"></td>\n",
    "</tr></table>"
   ]
  },
  {
   "cell_type": "markdown",
   "metadata": {},
   "source": [
    "# Обучение модели"
   ]
  },
  {
   "cell_type": "markdown",
   "metadata": {},
   "source": [
    "## Переобучение и недообучение (overfitting and underfitting).\n",
    "\n",
    "При обучении модели мы опираемся на значения функции потерь: чем меньше потери -- тем лучше?\n",
    "На самом деле не всегда:\n",
    "\n",
    "![](images_pt1/overfit.png)"
   ]
  },
  {
   "cell_type": "markdown",
   "metadata": {},
   "source": [
    "Мы можем столкнуться с переобучением -- это обычно происходит, когда параметров модели сильно больше, чем обучающих примеров. Модель просто запоминает тренировочные данные и неспособна давать адекватные предсказания на новых данных (плохо обобщаема).\n",
    "\n",
    "Может быть и обратная ситуация: параметров модели недостаточно для того, что выучить паттерны в данных. Такой случай называется недообучением."
   ]
  },
  {
   "cell_type": "markdown",
   "metadata": {},
   "source": [
    "## Регуляризация\n",
    "\n",
    "Для того, чтобы избежать переобучения мы к нашей функции потерь добавляем дополнительный член, зависящий от параметров модели:\n",
    "$$L_{reg}(a, y) = L(a, y) + R(\\theta).$$\n",
    "\n",
    "Обычно используют $l_p$ регуляризацию с $p=1,2$:\n",
    "$$R(\\theta) = l_p(\\theta) = \\lambda ||\\theta||_p.$$\n",
    "\n",
    "Еще комбинированный вариант, Elastic Net Regularization:\n",
    "$$R(\\theta) = \\lambda_1 l_1(\\theta) + \\lambda_2 l_2(\\theta).$$\n",
    "\n",
    "$\\lambda$ -- сила регуляризации."
   ]
  },
  {
   "cell_type": "markdown",
   "metadata": {},
   "source": [
    "Обоснование регуляризации можно получить с помощью вероятностного подхода. Если мы предположим, что параметры имеют некоторое априорное распределение, то выводя лосс через метод максимального правдоподобия получим дополнительный регуляризационный член. При этом его вид зависит от априорного распределения ($l_2$ для нормального, $l_1$ для лапласа).\n",
    "\n",
    "Подробности: http://bjlkeng.github.io/posts/probabilistic-interpretation-of-regularization/"
   ]
  },
  {
   "cell_type": "markdown",
   "metadata": {},
   "source": [
    "![](images_pt1/two_normal.png)"
   ]
  },
  {
   "cell_type": "markdown",
   "metadata": {},
   "source": [
    "## Валидация\n",
    "\n",
    "Для того, чтобы избежать переобучения и честно оценивать качество модели, обучающаю выборку делят на две: на одной части мы будем обучать наш алгоритм, а на другой валидироваться."
   ]
  },
  {
   "cell_type": "code",
   "execution_count": 19,
   "metadata": {
    "ExecuteTime": {
     "end_time": "2019-10-24T20:03:58.539792Z",
     "start_time": "2019-10-24T20:03:57.726308Z"
    }
   },
   "outputs": [
    {
     "data": {
      "text/plain": [
       "array([[0, 1],\n",
       "       [2, 3],\n",
       "       [4, 5],\n",
       "       [6, 7],\n",
       "       [8, 9]])"
      ]
     },
     "execution_count": 19,
     "metadata": {},
     "output_type": "execute_result"
    }
   ],
   "source": [
    "from sklearn.model_selection import train_test_split\n",
    "X, y = np.arange(10).reshape((5, 2)), range(5)\n",
    "X"
   ]
  },
  {
   "cell_type": "code",
   "execution_count": 20,
   "metadata": {
    "ExecuteTime": {
     "end_time": "2019-10-24T20:04:56.215417Z",
     "start_time": "2019-10-24T20:04:56.211645Z"
    }
   },
   "outputs": [
    {
     "data": {
      "text/plain": [
       "[0, 1, 2, 3, 4]"
      ]
     },
     "execution_count": 20,
     "metadata": {},
     "output_type": "execute_result"
    }
   ],
   "source": [
    "list(y)"
   ]
  },
  {
   "cell_type": "code",
   "execution_count": 21,
   "metadata": {
    "ExecuteTime": {
     "end_time": "2019-10-24T20:04:35.473926Z",
     "start_time": "2019-10-24T20:04:35.468481Z"
    }
   },
   "outputs": [
    {
     "data": {
      "text/plain": [
       "array([[4, 5],\n",
       "       [0, 1],\n",
       "       [6, 7]])"
      ]
     },
     "execution_count": 21,
     "metadata": {},
     "output_type": "execute_result"
    }
   ],
   "source": [
    "X_train, X_test, y_train, y_test = train_test_split(X, y, test_size=0.33, random_state=42)\n",
    "X_train"
   ]
  },
  {
   "cell_type": "code",
   "execution_count": 22,
   "metadata": {
    "ExecuteTime": {
     "end_time": "2019-10-24T20:04:39.666685Z",
     "start_time": "2019-10-24T20:04:39.662871Z"
    }
   },
   "outputs": [
    {
     "data": {
      "text/plain": [
       "[2, 0, 3]"
      ]
     },
     "execution_count": 22,
     "metadata": {},
     "output_type": "execute_result"
    }
   ],
   "source": [
    "y_train"
   ]
  },
  {
   "cell_type": "code",
   "execution_count": 23,
   "metadata": {
    "ExecuteTime": {
     "end_time": "2019-10-24T20:05:08.350302Z",
     "start_time": "2019-10-24T20:05:08.346473Z"
    }
   },
   "outputs": [
    {
     "data": {
      "text/plain": [
       "array([[2, 3],\n",
       "       [8, 9]])"
      ]
     },
     "execution_count": 23,
     "metadata": {},
     "output_type": "execute_result"
    }
   ],
   "source": [
    "X_test"
   ]
  },
  {
   "cell_type": "code",
   "execution_count": 24,
   "metadata": {
    "ExecuteTime": {
     "end_time": "2019-10-24T20:05:13.757114Z",
     "start_time": "2019-10-24T20:05:13.752547Z"
    }
   },
   "outputs": [
    {
     "data": {
      "text/plain": [
       "[1, 4]"
      ]
     },
     "execution_count": 24,
     "metadata": {},
     "output_type": "execute_result"
    }
   ],
   "source": [
    "y_test"
   ]
  },
  {
   "cell_type": "code",
   "execution_count": 25,
   "metadata": {
    "ExecuteTime": {
     "end_time": "2019-10-24T20:05:54.487815Z",
     "start_time": "2019-10-24T20:05:54.481617Z"
    }
   },
   "outputs": [
    {
     "name": "stdout",
     "output_type": "stream",
     "text": [
      "KFold(n_splits=2, random_state=None, shuffle=False)\n",
      "TRAIN: [2 3] TEST: [0 1]\n",
      "TRAIN: [0 1] TEST: [2 3]\n"
     ]
    }
   ],
   "source": [
    "from sklearn.model_selection import KFold\n",
    "X = np.array([[1, 2], [3, 4], [1, 2], [3, 4]])\n",
    "y = np.array([1, 2, 3, 4])\n",
    "kf = KFold(n_splits=2)\n",
    "kf.get_n_splits(X)\n",
    "\n",
    "print(kf)  \n",
    "\n",
    "for train_index, test_index in kf.split(X):\n",
    "    print(\"TRAIN:\", train_index, \"TEST:\", test_index)\n",
    "    X_train, X_test = X[train_index], X[test_index]\n",
    "    y_train, y_test = y[train_index], y[test_index]"
   ]
  },
  {
   "cell_type": "markdown",
   "metadata": {},
   "source": [
    "Для подбора моделей перебором гиперпараметров можно использовать GridSearchCV, RandomizedSearchCV"
   ]
  },
  {
   "cell_type": "markdown",
   "metadata": {},
   "source": [
    "# Методы оптимизации"
   ]
  },
  {
   "cell_type": "markdown",
   "metadata": {},
   "source": [
    "<table><tr>\n",
    "<td><img src=\"images_pt1/sgd1.png\" style=\"height:400px\"></td>\n",
    "</tr></table>"
   ]
  },
  {
   "cell_type": "markdown",
   "metadata": {},
   "source": [
    "В методах машинного обучения используется метод градиентного спуска и всевозможные его вариации, о которых мы сейчас и поговорим.\n",
    "\n",
    "Базовая формула обычного градиентного спуска для обновления весов выглядит следующим образом:\n",
    "$$\\theta = \\theta - \\eta \\cdot \\nabla_\\theta L(\\theta),$$\n",
    "$\\theta$ -- введеные ранее параметры модели, $\\eta$ -- скорость обучения (learning rate), $\\nabla_\\theta L(\\theta)$ -- градиент нашей функции потерь по параметрам $\\theta$."
   ]
  },
  {
   "cell_type": "markdown",
   "metadata": {},
   "source": [
    "Важным предположением в задачах МО является то, что градиент является аддитивной функцией относительно обучающих примеров, т.е.:\n",
    "$$\\nabla_\\theta L(\\theta) = \\sum_{i=1}^n \\nabla_\\theta L_i(\\theta) = \\sum_{i=1}^n \\nabla_\\theta L(a_\\theta(x_i), y_i)$$"
   ]
  },
  {
   "cell_type": "markdown",
   "metadata": {},
   "source": [
    "Следствием последнего утверждения являются алгоритмы SGD (Stochastic Gradient Descent) и Mini-batch SGD. Они позволяют обновлять параметры не перебирая весь набор примеров, который может быть очень большим."
   ]
  },
  {
   "cell_type": "markdown",
   "metadata": {},
   "source": [
    "## Стохастический градиентный спуск\n",
    "\n",
    "```{python}\n",
    "1.function sgd(X, alpha, epsilon):\n",
    "\n",
    "2. \tinitialise beta \n",
    "\n",
    "3. \tdo: \n",
    "\n",
    "4.        X = shuffle(X)\n",
    "\n",
    "5.        for x in X:\n",
    "\n",
    "6.            theta = new_theta\n",
    "\n",
    "7.            new_theta = theta - alpha*grad(x, theta)\n",
    "\n",
    "8.\tuntil dist(new_theta, theta) < epsilon\n",
    "\n",
    "9.\treturn beta\n",
    "```"
   ]
  },
  {
   "cell_type": "markdown",
   "metadata": {},
   "source": [
    "## Mini-batch SGD\n",
    "\n",
    "```{python}\n",
    "1.function sgd_mb(X, alpha, epsilon, batch_size):\n",
    "\n",
    "2. \tinitialise beta \n",
    "\n",
    "3. \tdo: \n",
    "\n",
    "4.        X_batch = get_next_batch(X, batch_size)\n",
    "\n",
    "5.        theta = new_theta\n",
    "\n",
    "6.        new_theta = theta - alpha*grad(X_batch, theta)\n",
    "\n",
    "7.\tuntil dist(new_theta, theta) < epsilon\n",
    "\n",
    "8.\treturn beta\n",
    "```"
   ]
  },
  {
   "cell_type": "markdown",
   "metadata": {},
   "source": [
    "### Nesterov Accelerated Gradient\n",
    "Учитываем в скорости спуска насколько долго мы движемся в данном направлении.\n",
    "$$v_t = \\gamma v_{t-1} + \\eta \\nabla_\\theta L(\\theta - \\gamma v_{t-1}),$$\n",
    "$$\\theta = \\theta - v_t.$$"
   ]
  },
  {
   "cell_type": "markdown",
   "metadata": {},
   "source": [
    "### Adagrad\n",
    "Признаки могут нести в себе разное количество информации: какие-то могут встречаться часто, но при этом быть мало связаны с целевой переменной, другие напротив могут встречаться не так часто, но при этом могут быть тесно связаны с таргетом. Хотелось бы учитывать частоту обновления для каждого признака.\n",
    "\n",
    "$$g_t \\equiv \\nabla_\\theta L( \\theta_t ),$$\n",
    "$$G_{t} = G_{t} + g_{t}^2,$$\n",
    "$$\\theta_{t+1} = \\theta_{t} - \\frac{\\eta}{\\sqrt{G_{t} + \\epsilon}} g_{t}.$$"
   ]
  },
  {
   "cell_type": "markdown",
   "metadata": {},
   "source": [
    "## Adadelta\n",
    "В Adagrad после некоторого момента вес признака может перестать обновляться совсем, эту проблему в Adadelta (и его предшественнике RMSPROP) решают с помощью скользящего среднего для обновлений.\n",
    "\n",
    "Обозначения:\n",
    "$$E[g^2]_t = \\gamma E[g^2]_{t-1} + (1 - \\gamma) g^2_t,$$\n",
    "\n",
    "$$RMS[g]_t = \\sqrt{E[g^2]_t + \\epsilon}.$$\n",
    "\n",
    "Обновление параметров модели:\n",
    "\n",
    "$$\\Delta \\theta = -\\frac{RMS[\\Delta \\theta]_{t-1}}{RMS[g]_{t}}g_{t},$$\n",
    "\n",
    "$$\\theta_{t+1} = \\theta_{t} - \\frac{RMS[\\Delta \\theta]_{t-1}}{RMS[g]_{t}}g_{t}.$$\n",
    "\n",
    "Обновление аккумулирующих переменных:\n",
    "\n",
    "$$E[\\Delta \\theta^2]_t = \\gamma E[\\Delta \\theta^2]_{t-1} + (1 - \\gamma) \\Delta \\theta^2_t,$$\n",
    "\n",
    "$$RMS[\\Delta \\theta]_{t} = \\sqrt{E[\\Delta \\theta^2]_t + \\epsilon}.$$"
   ]
  },
  {
   "cell_type": "markdown",
   "metadata": {},
   "source": [
    "## Adam\n",
    "Сочетает в себе идеи NAG и Adadelta, но с некоторыми поправками.\n",
    "\n",
    "Накопление импульса наподобие NAG:\n",
    "$$m_t = \\beta_1 m_{t-1} + (1 - \\beta_1) g_t.$$\n",
    "\n",
    "Скользящее среднее для частоты обновления:\n",
    "$$v_t = \\beta_2 v_{t-1} + (1 - \\beta_2) g_t^2.$$\n",
    "\n",
    "Поправка для избавления от подбора начальной инилизации $m_t$ и $v_t$:\n",
    "$$\\hat{m}_t = \\frac{m_t}{1 - \\beta^t_1},$$\n",
    "$$\\hat{v}_t = \\frac{v_t}{1 - \\beta^t_2}.$$\n",
    "\n",
    "Итоговая формула для обновления весов:\n",
    "$$\\theta_{t+1} = \\theta_{t} - \\dfrac{\\eta}{\\sqrt{\\hat{v}_t + \\epsilon}} \\hat{m}_t.$$"
   ]
  },
  {
   "cell_type": "markdown",
   "metadata": {},
   "source": [
    "![](images_pt1/optim.gif)"
   ]
  },
  {
   "cell_type": "markdown",
   "metadata": {},
   "source": [
    "Подробнее об этих методах и еще парочке других: https://habr.com/ru/post/318970/."
   ]
  },
  {
   "cell_type": "markdown",
   "metadata": {},
   "source": [
    "# Итоги"
   ]
  },
  {
   "cell_type": "markdown",
   "metadata": {},
   "source": [
    "Построение модели машинного обучения состоит из трех компонент:\n",
    "\n",
    "1) Выдвигаем гипотезу о модели -- семейства параметрических функций A, которая может решить нашу задачу.\n",
    "\n",
    "2) Выбираем критерий, на основании которого будем оценивать качество модели.\n",
    "\n",
    "3) Подбираем наилучшие параметры модели с помощью алгоритма оптимизации."
   ]
  },
  {
   "cell_type": "code",
   "execution_count": null,
   "metadata": {},
   "outputs": [],
   "source": []
  },
  {
   "cell_type": "code",
   "execution_count": null,
   "metadata": {},
   "outputs": [],
   "source": []
  },
  {
   "cell_type": "code",
   "execution_count": null,
   "metadata": {},
   "outputs": [],
   "source": []
  },
  {
   "cell_type": "code",
   "execution_count": null,
   "metadata": {},
   "outputs": [],
   "source": []
  },
  {
   "cell_type": "code",
   "execution_count": null,
   "metadata": {},
   "outputs": [],
   "source": []
  }
 ],
 "metadata": {
  "kernelspec": {
   "display_name": "Python 3",
   "language": "python",
   "name": "python3"
  },
  "language_info": {
   "codemirror_mode": {
    "name": "ipython",
    "version": 3
   },
   "file_extension": ".py",
   "mimetype": "text/x-python",
   "name": "python",
   "nbconvert_exporter": "python",
   "pygments_lexer": "ipython3",
   "version": "3.7.3"
  }
 },
 "nbformat": 4,
 "nbformat_minor": 2
}
